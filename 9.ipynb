{
  "nbformat": 4,
  "nbformat_minor": 0,
  "metadata": {
    "colab": {
      "name": "9",
      "provenance": [],
      "collapsed_sections": [],
      "toc_visible": true,
      "authorship_tag": "ABX9TyPLUqf4LeYLtE9wUUYtJFV+",
      "include_colab_link": true
    },
    "kernelspec": {
      "name": "python3",
      "display_name": "Python 3"
    }
  },
  "cells": [
    {
      "cell_type": "markdown",
      "metadata": {
        "id": "view-in-github",
        "colab_type": "text"
      },
      "source": [
        "<a href=\"https://colab.research.google.com/github/Emelyanova-S/pop/blob/master/9.ipynb\" target=\"_parent\"><img src=\"https://colab.research.google.com/assets/colab-badge.svg\" alt=\"Open In Colab\"/></a>"
      ]
    },
    {
      "cell_type": "markdown",
      "metadata": {
        "id": "eWmdZyG_9Q6u",
        "colab_type": "text"
      },
      "source": [
        "# Markdown\n"
      ]
    },
    {
      "cell_type": "markdown",
      "metadata": {
        "id": "fxmJBbi99uH_",
        "colab_type": "text"
      },
      "source": [
        "\n",
        "\n",
        "\n",
        "Что нужно сделать: \n",
        "1.   Список\n",
        "2.   Рисунок\n",
        "3.   Таблицу\n",
        "4.   Ссылку\n",
        "\n"
      ]
    },
    {
      "cell_type": "markdown",
      "metadata": {
        "id": "UKos6vFfGVaC",
        "colab_type": "text"
      },
      "source": [
        "![alt text](https://www.inovaloji.com/wp-content/uploads/2019/11/google-milyonlarca-kisinin-saglik-verisini-topluyor-r5q4nFLT-360x240.jpg)"
      ]
    },
    {
      "cell_type": "markdown",
      "metadata": {
        "id": "cGpEjpjiLfeb",
        "colab_type": "text"
      },
      "source": [
        "| A | B | C |\n",
        "|:--|:--|:--|\n",
        "| 1 | 2 | 3 |\n"
      ]
    },
    {
      "cell_type": "markdown",
      "metadata": {
        "id": "gLVErpe5MHZB",
        "colab_type": "text"
      },
      "source": [
        "[Что такое Markdown](lifehacker.ru/chto-takoe-markdown/)\n"
      ]
    },
    {
      "cell_type": "markdown",
      "metadata": {
        "id": "a9D6uHfoNCQB",
        "colab_type": "text"
      },
      "source": [
        "**ааааааа**"
      ]
    }
  ]
}
{
  "nbformat": 4,
  "nbformat_minor": 0,
  "metadata": {
    "colab": {
      "name": "Laba3.ipynb",
      "provenance": [],
      "collapsed_sections": [],
      "include_colab_link": true
    },
    "kernelspec": {
      "name": "python3",
      "display_name": "Python 3"
    }
  },
  "cells": [
    {
      "cell_type": "markdown",
      "metadata": {
        "id": "view-in-github",
        "colab_type": "text"
      },
      "source": [
        "<a href=\"https://colab.research.google.com/github/Emelyanova-S/pop/blob/master/Laba3.ipynb\" target=\"_parent\"><img src=\"https://colab.research.google.com/assets/colab-badge.svg\" alt=\"Open In Colab\"/></a>"
      ]
    },
    {
      "cell_type": "code",
      "metadata": {
        "id": "7J3y9JipFD41",
        "colab_type": "code",
        "colab": {}
      },
      "source": [
        "import pandas as pd\n",
        "import numpy as np\n",
        "import matplotlib.pyplot as plt # для построения графиков"
      ],
      "execution_count": 0,
      "outputs": []
    },
    {
      "cell_type": "code",
      "metadata": {
        "id": "FjOMBaABMFsc",
        "colab_type": "code",
        "outputId": "4b59ae65-54f1-44ac-9f73-891ae06c8fa3",
        "colab": {
          "base_uri": "https://localhost:8080/",
          "height": 419
        }
      },
      "source": [
        "url = \"https://drive.google.com/uc?export=download&id=18DPkDvWDhNEa2-j3XoQHk05o5NxXm1bz\"\n",
        "df_power = pd.read_excel(url)\n",
        "\n",
        "df_power2=df_power.copy()\n",
        "\n",
        "df_power"
      ],
      "execution_count": 0,
      "outputs": [
        {
          "output_type": "execute_result",
          "data": {
            "text/html": [
              "<div>\n",
              "<style scoped>\n",
              "    .dataframe tbody tr th:only-of-type {\n",
              "        vertical-align: middle;\n",
              "    }\n",
              "\n",
              "    .dataframe tbody tr th {\n",
              "        vertical-align: top;\n",
              "    }\n",
              "\n",
              "    .dataframe thead th {\n",
              "        text-align: right;\n",
              "    }\n",
              "</style>\n",
              "<table border=\"1\" class=\"dataframe\">\n",
              "  <thead>\n",
              "    <tr style=\"text-align: right;\">\n",
              "      <th></th>\n",
              "      <th>date_stamp</th>\n",
              "      <th>production</th>\n",
              "    </tr>\n",
              "  </thead>\n",
              "  <tbody>\n",
              "    <tr>\n",
              "      <th>0</th>\n",
              "      <td>01.01.2013</td>\n",
              "      <td>103256.7</td>\n",
              "    </tr>\n",
              "    <tr>\n",
              "      <th>1</th>\n",
              "      <td>01.02.2013</td>\n",
              "      <td>91532.6</td>\n",
              "    </tr>\n",
              "    <tr>\n",
              "      <th>2</th>\n",
              "      <td>01.03.2013</td>\n",
              "      <td>97809.1</td>\n",
              "    </tr>\n",
              "    <tr>\n",
              "      <th>3</th>\n",
              "      <td>01.04.2013</td>\n",
              "      <td>85131.0</td>\n",
              "    </tr>\n",
              "    <tr>\n",
              "      <th>4</th>\n",
              "      <td>01.05.2013</td>\n",
              "      <td>79080.8</td>\n",
              "    </tr>\n",
              "    <tr>\n",
              "      <th>...</th>\n",
              "      <td>...</td>\n",
              "      <td>...</td>\n",
              "    </tr>\n",
              "    <tr>\n",
              "      <th>79</th>\n",
              "      <td>01.08.2019</td>\n",
              "      <td>83100.0</td>\n",
              "    </tr>\n",
              "    <tr>\n",
              "      <th>80</th>\n",
              "      <td>01.09.2019</td>\n",
              "      <td>84000.0</td>\n",
              "    </tr>\n",
              "    <tr>\n",
              "      <th>81</th>\n",
              "      <td>01.10.2019</td>\n",
              "      <td>93200.0</td>\n",
              "    </tr>\n",
              "    <tr>\n",
              "      <th>82</th>\n",
              "      <td>01.11.2019</td>\n",
              "      <td>98900.0</td>\n",
              "    </tr>\n",
              "    <tr>\n",
              "      <th>83</th>\n",
              "      <td>01.12.2019</td>\n",
              "      <td>104400.0</td>\n",
              "    </tr>\n",
              "  </tbody>\n",
              "</table>\n",
              "<p>84 rows × 2 columns</p>\n",
              "</div>"
            ],
            "text/plain": [
              "    date_stamp  production\n",
              "0   01.01.2013    103256.7\n",
              "1   01.02.2013     91532.6\n",
              "2   01.03.2013     97809.1\n",
              "3   01.04.2013     85131.0\n",
              "4   01.05.2013     79080.8\n",
              "..         ...         ...\n",
              "79  01.08.2019     83100.0\n",
              "80  01.09.2019     84000.0\n",
              "81  01.10.2019     93200.0\n",
              "82  01.11.2019     98900.0\n",
              "83  01.12.2019    104400.0\n",
              "\n",
              "[84 rows x 2 columns]"
            ]
          },
          "metadata": {
            "tags": []
          },
          "execution_count": 2
        }
      ]
    },
    {
      "cell_type": "code",
      "metadata": {
        "id": "GAPn4jFLQ58B",
        "colab_type": "code",
        "outputId": "e74535d4-3614-4696-b28a-e2b9513c6e5a",
        "colab": {
          "base_uri": "https://localhost:8080/",
          "height": 255
        }
      },
      "source": [
        "df_power = df_power.sort_values(['production'], ascending = False)\n",
        "print(df_power)"
      ],
      "execution_count": 0,
      "outputs": [
        {
          "output_type": "stream",
          "text": [
            "    date_stamp  production\n",
            "71  01.12.2018    107520.0\n",
            "47  01.12.2016    106081.4\n",
            "72  01.01.2019    105700.0\n",
            "83  01.12.2019    104400.0\n",
            "36  01.01.2016    104243.7\n",
            "..         ...         ...\n",
            "18  01.07.2014     76271.2\n",
            "6   01.07.2013     76095.4\n",
            "29  01.06.2015     74737.5\n",
            "5   01.06.2013     74479.9\n",
            "17  01.06.2014     73962.5\n",
            "\n",
            "[84 rows x 2 columns]\n"
          ],
          "name": "stdout"
        }
      ]
    },
    {
      "cell_type": "code",
      "metadata": {
        "id": "N0URYodSRwoL",
        "colab_type": "code",
        "outputId": "3bd691c1-09e5-47c0-a822-ab643ae5f57d",
        "colab": {
          "base_uri": "https://localhost:8080/",
          "height": 419
        }
      },
      "source": [
        "df_power2"
      ],
      "execution_count": 0,
      "outputs": [
        {
          "output_type": "execute_result",
          "data": {
            "text/html": [
              "<div>\n",
              "<style scoped>\n",
              "    .dataframe tbody tr th:only-of-type {\n",
              "        vertical-align: middle;\n",
              "    }\n",
              "\n",
              "    .dataframe tbody tr th {\n",
              "        vertical-align: top;\n",
              "    }\n",
              "\n",
              "    .dataframe thead th {\n",
              "        text-align: right;\n",
              "    }\n",
              "</style>\n",
              "<table border=\"1\" class=\"dataframe\">\n",
              "  <thead>\n",
              "    <tr style=\"text-align: right;\">\n",
              "      <th></th>\n",
              "      <th>date_stamp</th>\n",
              "      <th>production</th>\n",
              "    </tr>\n",
              "  </thead>\n",
              "  <tbody>\n",
              "    <tr>\n",
              "      <th>0</th>\n",
              "      <td>01.01.2013</td>\n",
              "      <td>103256.7</td>\n",
              "    </tr>\n",
              "    <tr>\n",
              "      <th>1</th>\n",
              "      <td>01.02.2013</td>\n",
              "      <td>91532.6</td>\n",
              "    </tr>\n",
              "    <tr>\n",
              "      <th>2</th>\n",
              "      <td>01.03.2013</td>\n",
              "      <td>97809.1</td>\n",
              "    </tr>\n",
              "    <tr>\n",
              "      <th>3</th>\n",
              "      <td>01.04.2013</td>\n",
              "      <td>85131.0</td>\n",
              "    </tr>\n",
              "    <tr>\n",
              "      <th>4</th>\n",
              "      <td>01.05.2013</td>\n",
              "      <td>79080.8</td>\n",
              "    </tr>\n",
              "    <tr>\n",
              "      <th>...</th>\n",
              "      <td>...</td>\n",
              "      <td>...</td>\n",
              "    </tr>\n",
              "    <tr>\n",
              "      <th>79</th>\n",
              "      <td>01.08.2019</td>\n",
              "      <td>83100.0</td>\n",
              "    </tr>\n",
              "    <tr>\n",
              "      <th>80</th>\n",
              "      <td>01.09.2019</td>\n",
              "      <td>84000.0</td>\n",
              "    </tr>\n",
              "    <tr>\n",
              "      <th>81</th>\n",
              "      <td>01.10.2019</td>\n",
              "      <td>93200.0</td>\n",
              "    </tr>\n",
              "    <tr>\n",
              "      <th>82</th>\n",
              "      <td>01.11.2019</td>\n",
              "      <td>98900.0</td>\n",
              "    </tr>\n",
              "    <tr>\n",
              "      <th>83</th>\n",
              "      <td>01.12.2019</td>\n",
              "      <td>104400.0</td>\n",
              "    </tr>\n",
              "  </tbody>\n",
              "</table>\n",
              "<p>84 rows × 2 columns</p>\n",
              "</div>"
            ],
            "text/plain": [
              "    date_stamp  production\n",
              "0   01.01.2013    103256.7\n",
              "1   01.02.2013     91532.6\n",
              "2   01.03.2013     97809.1\n",
              "3   01.04.2013     85131.0\n",
              "4   01.05.2013     79080.8\n",
              "..         ...         ...\n",
              "79  01.08.2019     83100.0\n",
              "80  01.09.2019     84000.0\n",
              "81  01.10.2019     93200.0\n",
              "82  01.11.2019     98900.0\n",
              "83  01.12.2019    104400.0\n",
              "\n",
              "[84 rows x 2 columns]"
            ]
          },
          "metadata": {
            "tags": []
          },
          "execution_count": 4
        }
      ]
    },
    {
      "cell_type": "code",
      "metadata": {
        "id": "e_YxzL1qTiK3",
        "colab_type": "code",
        "outputId": "43d6217a-f781-4ff8-a746-a9065a48c52f",
        "colab": {
          "base_uri": "https://localhost:8080/",
          "height": 419
        }
      },
      "source": [
        "df_power2['approximate_month_production'] = df_power2['production'] * 30\n",
        "df_power2"
      ],
      "execution_count": 0,
      "outputs": [
        {
          "output_type": "execute_result",
          "data": {
            "text/html": [
              "<div>\n",
              "<style scoped>\n",
              "    .dataframe tbody tr th:only-of-type {\n",
              "        vertical-align: middle;\n",
              "    }\n",
              "\n",
              "    .dataframe tbody tr th {\n",
              "        vertical-align: top;\n",
              "    }\n",
              "\n",
              "    .dataframe thead th {\n",
              "        text-align: right;\n",
              "    }\n",
              "</style>\n",
              "<table border=\"1\" class=\"dataframe\">\n",
              "  <thead>\n",
              "    <tr style=\"text-align: right;\">\n",
              "      <th></th>\n",
              "      <th>date_stamp</th>\n",
              "      <th>production</th>\n",
              "      <th>approximate_month_production</th>\n",
              "    </tr>\n",
              "  </thead>\n",
              "  <tbody>\n",
              "    <tr>\n",
              "      <th>0</th>\n",
              "      <td>01.01.2013</td>\n",
              "      <td>103256.7</td>\n",
              "      <td>3097701.0</td>\n",
              "    </tr>\n",
              "    <tr>\n",
              "      <th>1</th>\n",
              "      <td>01.02.2013</td>\n",
              "      <td>91532.6</td>\n",
              "      <td>2745978.0</td>\n",
              "    </tr>\n",
              "    <tr>\n",
              "      <th>2</th>\n",
              "      <td>01.03.2013</td>\n",
              "      <td>97809.1</td>\n",
              "      <td>2934273.0</td>\n",
              "    </tr>\n",
              "    <tr>\n",
              "      <th>3</th>\n",
              "      <td>01.04.2013</td>\n",
              "      <td>85131.0</td>\n",
              "      <td>2553930.0</td>\n",
              "    </tr>\n",
              "    <tr>\n",
              "      <th>4</th>\n",
              "      <td>01.05.2013</td>\n",
              "      <td>79080.8</td>\n",
              "      <td>2372424.0</td>\n",
              "    </tr>\n",
              "    <tr>\n",
              "      <th>...</th>\n",
              "      <td>...</td>\n",
              "      <td>...</td>\n",
              "      <td>...</td>\n",
              "    </tr>\n",
              "    <tr>\n",
              "      <th>79</th>\n",
              "      <td>01.08.2019</td>\n",
              "      <td>83100.0</td>\n",
              "      <td>2493000.0</td>\n",
              "    </tr>\n",
              "    <tr>\n",
              "      <th>80</th>\n",
              "      <td>01.09.2019</td>\n",
              "      <td>84000.0</td>\n",
              "      <td>2520000.0</td>\n",
              "    </tr>\n",
              "    <tr>\n",
              "      <th>81</th>\n",
              "      <td>01.10.2019</td>\n",
              "      <td>93200.0</td>\n",
              "      <td>2796000.0</td>\n",
              "    </tr>\n",
              "    <tr>\n",
              "      <th>82</th>\n",
              "      <td>01.11.2019</td>\n",
              "      <td>98900.0</td>\n",
              "      <td>2967000.0</td>\n",
              "    </tr>\n",
              "    <tr>\n",
              "      <th>83</th>\n",
              "      <td>01.12.2019</td>\n",
              "      <td>104400.0</td>\n",
              "      <td>3132000.0</td>\n",
              "    </tr>\n",
              "  </tbody>\n",
              "</table>\n",
              "<p>84 rows × 3 columns</p>\n",
              "</div>"
            ],
            "text/plain": [
              "    date_stamp  production  approximate_month_production\n",
              "0   01.01.2013    103256.7                     3097701.0\n",
              "1   01.02.2013     91532.6                     2745978.0\n",
              "2   01.03.2013     97809.1                     2934273.0\n",
              "3   01.04.2013     85131.0                     2553930.0\n",
              "4   01.05.2013     79080.8                     2372424.0\n",
              "..         ...         ...                           ...\n",
              "79  01.08.2019     83100.0                     2493000.0\n",
              "80  01.09.2019     84000.0                     2520000.0\n",
              "81  01.10.2019     93200.0                     2796000.0\n",
              "82  01.11.2019     98900.0                     2967000.0\n",
              "83  01.12.2019    104400.0                     3132000.0\n",
              "\n",
              "[84 rows x 3 columns]"
            ]
          },
          "metadata": {
            "tags": []
          },
          "execution_count": 5
        }
      ]
    },
    {
      "cell_type": "code",
      "metadata": {
        "id": "YN6qOnWlhKKh",
        "colab_type": "code",
        "outputId": "080bc55b-c98a-49c0-8288-64a3bc77cbfe",
        "colab": {
          "base_uri": "https://localhost:8080/",
          "height": 419
        }
      },
      "source": [
        "df_power2['Year'] = np.where(df_power2['date_stamp'].str.find('2013') >= 0, '2013', np.where(df_power2['date_stamp'].str.find('2014') >= 0, '2014', np.where(df_power2['date_stamp'].str.find('2015') >= 0, '2015', np.where(df_power2['date_stamp'].str.find('2016') >= 0, '2016', np.where(df_power2['date_stamp'].str.find('2017') >= 0, '2017', np.where(df_power2['date_stamp'].str.find('2018') >= 0, '2018', np.where(df_power2['date_stamp'].str.find('2019') >= 0, '2019', '?')))))))\n",
        "df_power2"
      ],
      "execution_count": 0,
      "outputs": [
        {
          "output_type": "execute_result",
          "data": {
            "text/html": [
              "<div>\n",
              "<style scoped>\n",
              "    .dataframe tbody tr th:only-of-type {\n",
              "        vertical-align: middle;\n",
              "    }\n",
              "\n",
              "    .dataframe tbody tr th {\n",
              "        vertical-align: top;\n",
              "    }\n",
              "\n",
              "    .dataframe thead th {\n",
              "        text-align: right;\n",
              "    }\n",
              "</style>\n",
              "<table border=\"1\" class=\"dataframe\">\n",
              "  <thead>\n",
              "    <tr style=\"text-align: right;\">\n",
              "      <th></th>\n",
              "      <th>date_stamp</th>\n",
              "      <th>production</th>\n",
              "      <th>approximate_month_production</th>\n",
              "      <th>Year</th>\n",
              "    </tr>\n",
              "  </thead>\n",
              "  <tbody>\n",
              "    <tr>\n",
              "      <th>0</th>\n",
              "      <td>01.01.2013</td>\n",
              "      <td>103256.7</td>\n",
              "      <td>3097701.0</td>\n",
              "      <td>2013</td>\n",
              "    </tr>\n",
              "    <tr>\n",
              "      <th>1</th>\n",
              "      <td>01.02.2013</td>\n",
              "      <td>91532.6</td>\n",
              "      <td>2745978.0</td>\n",
              "      <td>2013</td>\n",
              "    </tr>\n",
              "    <tr>\n",
              "      <th>2</th>\n",
              "      <td>01.03.2013</td>\n",
              "      <td>97809.1</td>\n",
              "      <td>2934273.0</td>\n",
              "      <td>2013</td>\n",
              "    </tr>\n",
              "    <tr>\n",
              "      <th>3</th>\n",
              "      <td>01.04.2013</td>\n",
              "      <td>85131.0</td>\n",
              "      <td>2553930.0</td>\n",
              "      <td>2013</td>\n",
              "    </tr>\n",
              "    <tr>\n",
              "      <th>4</th>\n",
              "      <td>01.05.2013</td>\n",
              "      <td>79080.8</td>\n",
              "      <td>2372424.0</td>\n",
              "      <td>2013</td>\n",
              "    </tr>\n",
              "    <tr>\n",
              "      <th>...</th>\n",
              "      <td>...</td>\n",
              "      <td>...</td>\n",
              "      <td>...</td>\n",
              "      <td>...</td>\n",
              "    </tr>\n",
              "    <tr>\n",
              "      <th>79</th>\n",
              "      <td>01.08.2019</td>\n",
              "      <td>83100.0</td>\n",
              "      <td>2493000.0</td>\n",
              "      <td>2019</td>\n",
              "    </tr>\n",
              "    <tr>\n",
              "      <th>80</th>\n",
              "      <td>01.09.2019</td>\n",
              "      <td>84000.0</td>\n",
              "      <td>2520000.0</td>\n",
              "      <td>2019</td>\n",
              "    </tr>\n",
              "    <tr>\n",
              "      <th>81</th>\n",
              "      <td>01.10.2019</td>\n",
              "      <td>93200.0</td>\n",
              "      <td>2796000.0</td>\n",
              "      <td>2019</td>\n",
              "    </tr>\n",
              "    <tr>\n",
              "      <th>82</th>\n",
              "      <td>01.11.2019</td>\n",
              "      <td>98900.0</td>\n",
              "      <td>2967000.0</td>\n",
              "      <td>2019</td>\n",
              "    </tr>\n",
              "    <tr>\n",
              "      <th>83</th>\n",
              "      <td>01.12.2019</td>\n",
              "      <td>104400.0</td>\n",
              "      <td>3132000.0</td>\n",
              "      <td>2019</td>\n",
              "    </tr>\n",
              "  </tbody>\n",
              "</table>\n",
              "<p>84 rows × 4 columns</p>\n",
              "</div>"
            ],
            "text/plain": [
              "    date_stamp  production  approximate_month_production  Year\n",
              "0   01.01.2013    103256.7                     3097701.0  2013\n",
              "1   01.02.2013     91532.6                     2745978.0  2013\n",
              "2   01.03.2013     97809.1                     2934273.0  2013\n",
              "3   01.04.2013     85131.0                     2553930.0  2013\n",
              "4   01.05.2013     79080.8                     2372424.0  2013\n",
              "..         ...         ...                           ...   ...\n",
              "79  01.08.2019     83100.0                     2493000.0  2019\n",
              "80  01.09.2019     84000.0                     2520000.0  2019\n",
              "81  01.10.2019     93200.0                     2796000.0  2019\n",
              "82  01.11.2019     98900.0                     2967000.0  2019\n",
              "83  01.12.2019    104400.0                     3132000.0  2019\n",
              "\n",
              "[84 rows x 4 columns]"
            ]
          },
          "metadata": {
            "tags": []
          },
          "execution_count": 6
        }
      ]
    },
    {
      "cell_type": "code",
      "metadata": {
        "id": "aytwyaRmGFPk",
        "colab_type": "code",
        "outputId": "9dd546f9-6e05-4c99-9a7f-325db69318b1",
        "colab": {
          "base_uri": "https://localhost:8080/",
          "height": 51
        }
      },
      "source": [
        "print('данные из десятой строки и второго столбца')\n",
        "print(df_power2.iloc[9 , 1])"
      ],
      "execution_count": 0,
      "outputs": [
        {
          "output_type": "stream",
          "text": [
            "данные из десятой строки и второго столбца\n",
            "90408.8\n"
          ],
          "name": "stdout"
        }
      ]
    },
    {
      "cell_type": "code",
      "metadata": {
        "id": "gfZV26v8HTTy",
        "colab_type": "code",
        "outputId": "8b2718a5-b701-4045-cc24-9b8365796ad0",
        "colab": {
          "base_uri": "https://localhost:8080/",
          "height": 170
        }
      },
      "source": [
        "print(df_power2.groupby(['Year'])['production'].max())"
      ],
      "execution_count": 0,
      "outputs": [
        {
          "output_type": "stream",
          "text": [
            "Year\n",
            "2013    103256.7\n",
            "2014    103343.5\n",
            "2015    101681.9\n",
            "2016    106081.4\n",
            "2017    104178.5\n",
            "2018    107520.0\n",
            "2019    105700.0\n",
            "Name: production, dtype: float64\n"
          ],
          "name": "stdout"
        }
      ]
    },
    {
      "cell_type": "code",
      "metadata": {
        "id": "drrF1W5URwXd",
        "colab_type": "code",
        "outputId": "64bb75de-44e6-48fe-b8db-953d5a71ec96",
        "colab": {
          "base_uri": "https://localhost:8080/",
          "height": 323
        }
      },
      "source": [
        "df_power2.groupby(['Year'])['production'].sum().plot(kind = 'bar')"
      ],
      "execution_count": 0,
      "outputs": [
        {
          "output_type": "execute_result",
          "data": {
            "text/plain": [
              "<matplotlib.axes._subplots.AxesSubplot at 0x7f8fb8b96e10>"
            ]
          },
          "metadata": {
            "tags": []
          },
          "execution_count": 9
        },
        {
          "output_type": "display_data",
          "data": {
            "image/png": "[encoded data removed]",
            "text/plain": [
              "<Figure size 432x288 with 1 Axes>"
            ]
          },
          "metadata": {
            "tags": [],
            "needs_background": "light"
          }
        }
      ]
    },
    {
      "cell_type": "code",
      "metadata": {
        "id": "a5YdayuMSj7X",
        "colab_type": "code",
        "outputId": "610d2c03-513f-484b-94ad-8cb69741ba60",
        "colab": {
          "base_uri": "https://localhost:8080/",
          "height": 692
        }
      },
      "source": [
        "generation_sum = (df_power2.groupby(['Year'])['production']).sum()\n",
        "\n",
        "labels = ['2013', '2014', '2015', '2016', '2017', '2018', '2019']\n",
        "\n",
        "fig1, ax1 = plt.subplots(figsize = (12, 12))\n",
        "ax1.pie(generation_sum, labels=labels, autopct='%1.1f%%')\n",
        "ax1.axis('equal')  # Equal aspect ratio ensures that pie is drawn as a circle.\n",
        "\n",
        "plt.show()"
      ],
      "execution_count": 0,
      "outputs": [
        {
          "output_type": "display_data",
          "data": {
            "image/png": "[encoded data removed]",
            "text/plain": [
              "<Figure size 864x864 with 1 Axes>"
            ]
          },
          "metadata": {
            "tags": []
          }
        }
      ]
    },
    {
      "cell_type": "code",
      "metadata": {
        "id": "F632uSmdVEtG",
        "colab_type": "code",
        "colab": {}
      },
      "source": [
        "from bokeh.plotting import figure, show"
      ],
      "execution_count": 0,
      "outputs": []
    },
    {
      "cell_type": "code",
      "metadata": {
        "id": "6Lw23_t-Uh8o",
        "colab_type": "code",
        "outputId": "fa81591f-5022-4330-b48f-fab8227a009b",
        "colab": {
          "base_uri": "https://localhost:8080/",
          "height": 255
        }
      },
      "source": [
        "p = figure(plot_width = 800, plot_height = 400)\n",
        "\n",
        "# Список цветов по количеству лет.\n",
        "colors = ['magenta', 'red', 'yellow', 'green', 'cyan', 'blue', 'black']\n",
        "\n",
        "# Для каждого года свой график.\n",
        "for year in range(2013, 2020):\n",
        "\n",
        "  # Выбор из таблицы данных по выработке за нужный год. \n",
        "  values = df_power2[df_power2['Year'] == year]['production'].values\n",
        "  \n",
        "  # Построение линий.\n",
        "  p.line(np.arange(12), values, color = colors[year - 2013], legend_label = str(year), line_width = 3)\n",
        "\n",
        "  # Построение маркеров.\n",
        "  p.circle(np.arange(12), values, color = colors[year - 2013], alpha=0.5, size = 8)\n",
        "\n",
        "\n",
        "show(p)"
      ],
      "execution_count": 0,
      "outputs": [
        {
          "output_type": "stream",
          "text": [
            "BokehUserWarning: ColumnDataSource's columns must be of the same length. Current lengths: ('x', 12), ('y', 0)\n",
            "BokehUserWarning: ColumnDataSource's columns must be of the same length. Current lengths: ('x', 12), ('y', 0)\n",
            "BokehUserWarning: ColumnDataSource's columns must be of the same length. Current lengths: ('x', 12), ('y', 0)\n",
            "BokehUserWarning: ColumnDataSource's columns must be of the same length. Current lengths: ('x', 12), ('y', 0)\n",
            "BokehUserWarning: ColumnDataSource's columns must be of the same length. Current lengths: ('x', 12), ('y', 0)\n",
            "BokehUserWarning: ColumnDataSource's columns must be of the same length. Current lengths: ('x', 12), ('y', 0)\n",
            "BokehUserWarning: ColumnDataSource's columns must be of the same length. Current lengths: ('x', 12), ('y', 0)\n",
            "BokehUserWarning: ColumnDataSource's columns must be of the same length. Current lengths: ('x', 12), ('y', 0)\n",
            "BokehUserWarning: ColumnDataSource's columns must be of the same length. Current lengths: ('x', 12), ('y', 0)\n",
            "BokehUserWarning: ColumnDataSource's columns must be of the same length. Current lengths: ('x', 12), ('y', 0)\n",
            "BokehUserWarning: ColumnDataSource's columns must be of the same length. Current lengths: ('x', 12), ('y', 0)\n",
            "BokehUserWarning: ColumnDataSource's columns must be of the same length. Current lengths: ('x', 12), ('y', 0)\n",
            "BokehUserWarning: ColumnDataSource's columns must be of the same length. Current lengths: ('x', 12), ('y', 0)\n",
            "BokehUserWarning: ColumnDataSource's columns must be of the same length. Current lengths: ('x', 12), ('y', 0)\n"
          ],
          "name": "stderr"
        }
      ]
    }
  ]
}